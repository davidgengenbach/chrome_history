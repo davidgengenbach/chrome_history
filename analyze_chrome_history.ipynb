{
 "cells": [
  {
   "cell_type": "markdown",
   "metadata": {},
   "source": [
    "# Analyize Google Chrome history\n",
    "\n",
    "Code taken and minimally adapted from the [Analyzing Browser History Using Python and Pandas](https://applecrazy.github.io/blog/posts/analyzing-browser-hist-using-python/) blogpost by __AppleCrazy__."
   ]
  },
  {
   "cell_type": "code",
   "execution_count": null,
   "metadata": {},
   "outputs": [],
   "source": [
    "%matplotlib inline"
   ]
  },
  {
   "cell_type": "code",
   "execution_count": null,
   "metadata": {},
   "outputs": [],
   "source": [
    "import os\n",
    "import pandas as pd\n",
    "import numpy as np\n",
    "from IPython.display import display\n",
    "from urllib.parse import urlparse\n",
    "import matplotlib.pyplot as plt\n",
    "import seaborn as sns\n",
    "sns.set('notebook', style = 'white')"
   ]
  },
  {
   "cell_type": "code",
   "execution_count": null,
   "metadata": {},
   "outputs": [],
   "source": [
    "HISTORY_FILE = 'data/history.txt'\n",
    "\n",
    "assert os.path.exists(HISTORY_FILE), 'History file \"{}\" does not exist! Please run get_chrome_history.sh'.format(HISTORY_FILE)"
   ]
  },
  {
   "cell_type": "code",
   "execution_count": null,
   "metadata": {},
   "outputs": [],
   "source": [
    "def get_history_from_file_as_df(history_file):\n",
    "    # Open our file\n",
    "    with open(history_file) as f:\n",
    "        content = f.readlines()\n",
    "\n",
    "    # Strip whitespace then split on first occurrence of pipe character\n",
    "    raw_data = [line.strip().split('|', 1) for line in content]\n",
    "\n",
    "    data = pd.DataFrame(raw_data, columns=['datetime', 'url']).sort_values('datetime')\n",
    "    \n",
    "    # Had an error with this date? Must be an bug when exporting the history since there were no computers in 1601 (I guess?)\n",
    "    data = data[data.datetime != '1601-01-01 00:00:00']\n",
    "    \n",
    "    parser = lambda u: urlparse(u).netloc\n",
    "    data['domain'] = data.url.apply(parser)\n",
    "\n",
    "    data.datetime = pd.to_datetime(data.datetime)\n",
    "    return data\n",
    "\n",
    "def get_domain_visit_counts(data):\n",
    "        # Aggregate domain entries\n",
    "    site_frequencies = data.domain.value_counts().to_frame()\n",
    "    # Make the domain a column\n",
    "    site_frequencies.reset_index(level=0, inplace=True)\n",
    "    # Rename columns to appropriate names\n",
    "    site_frequencies.columns = ['domain', 'count']\n",
    "    return site_frequencies\n",
    "\n",
    "def plot_domain_visit_counts_as_piechart(site_frequencies, with_labels = True, topN = 20, figsize = (14, 14)):\n",
    "    fig, ax = plt.subplots(figsize=figsize)\n",
    "    ax.set_title('Top {} Sites Visited\\n({} visits in total)'.format(topN, site_frequencies['count'].sum()))\n",
    "    pie_data = site_frequencies['count'].head(topN).tolist()\n",
    "\n",
    "    if with_labels:\n",
    "        pie_labels = site_frequencies.apply(lambda x: '{} ({})'.format(x.domain, x['count']), axis = 1).head(topN)\n",
    "    else:\n",
    "        pie_labels = None\n",
    "    \n",
    "    ax.pie(pie_data, autopct='%1.1f%%', labels=pie_labels)\n",
    "    return fig, ax\n",
    "\n",
    "data = get_history_from_file_as_df(HISTORY_FILE)\n",
    "site_frequencies = get_domain_visit_counts(data)\n",
    "fig, ax = plot_domain_visit_counts_as_piechart(site_frequencies)"
   ]
  },
  {
   "cell_type": "code",
   "execution_count": null,
   "metadata": {},
   "outputs": [],
   "source": [
    "data.datetime.describe().to_frame().T"
   ]
  },
  {
   "cell_type": "code",
   "execution_count": null,
   "metadata": {},
   "outputs": [],
   "source": [
    "#data.datetime.apply(lambda x: (x.hour, x.minute)).value_counts()\n",
    "fig, ax = plt.subplots(figsize = (20, 6))\n",
    "data.datetime.dt.hour.value_counts().sort_index(ascending = True).plot(kind = 'bar', ax = ax)\n",
    "ax.set_title('Visits per hour')\n",
    "ax.set_xlabel('hour of the day');"
   ]
  },
  {
   "cell_type": "code",
   "execution_count": null,
   "metadata": {},
   "outputs": [],
   "source": [
    "import collections\n",
    "\n",
    "day_time = data.apply(lambda x: [x.datetime.hour, x.datetime.minute, x.domain], axis = 1).values\n",
    "def time_to_x_y(t, factor = np.pi / 12):\n",
    "    angle_in_rad = (t * factor) % (2 * np.pi)\n",
    "    x, y = np.sin(angle_in_rad), np.cos(angle_in_rad)\n",
    "    return x, y\n",
    "\n",
    "values = collections.defaultdict(lambda: [])\n",
    "for hour, minute, domain in day_time:\n",
    "    t = hour + minute / 60\n",
    "    x, y = time_to_x_y(t)\n",
    "    values['x'].append(x)\n",
    "    values['y'].append(y)\n",
    "    values['domain'].append(domain)"
   ]
  },
  {
   "cell_type": "code",
   "execution_count": null,
   "metadata": {},
   "outputs": [],
   "source": [
    "variance = 0.3\n",
    "new_vals = {}\n",
    "for key, val in values.items():\n",
    "    ran = np.random.uniform(low = -variance, high = variance, size=len(val))\n",
    "    if isinstance(val[0], str):\n",
    "        new_vals[key] = val\n",
    "    else:\n",
    "        new_vals[key] = np.array(val) + ran\n",
    "\n",
    "colors = plt.get_cmap('Paired').colors\n",
    "num_colors = len(colors)\n",
    "cmap_domain_2_idx = {domain: colors[idx % num_colors] for idx, domain in enumerate(set(new_vals['domain']))}\n",
    "domain_colors = [cmap_domain_2_idx[domain] for domain in new_vals['domain']]\n",
    "        \n",
    "fig, ax = plt.subplots(figsize = (10, 10))\n",
    "pd.DataFrame(new_vals).plot(kind = 'scatter', x = 'x', y = 'y', ax = ax, s = 2, alpha = 0.6, c = domain_colors)\n",
    "ax.grid('off')\n",
    "fig.tight_layout()\n",
    "\n",
    "for pos, spine in ax.spines.items():\n",
    "    spine.set_visible(False)\n",
    "\n",
    "ax.get_xaxis().set_visible(False)\n",
    "ax.get_yaxis().set_visible(False)\n",
    "\n",
    "for hour in range(24):\n",
    "    x, y = time_to_x_y(hour)\n",
    "    ax.text(x = x, y = y, s = hour, fontdict={'horizontalalignment': 'center', 'weight': 'bold'}, color = 'red')\n",
    "\n",
    "ax.set_title('Page visits per hour')\n",
    "\n",
    "fig.tight_layout()\n",
    "fig.savefig('data/visits_per_hour.png')"
   ]
  }
 ],
 "metadata": {
  "language_info": {
   "name": "python",
   "pygments_lexer": "ipython3"
  }
 },
 "nbformat": 4,
 "nbformat_minor": 2
}
