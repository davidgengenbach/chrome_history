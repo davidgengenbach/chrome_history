{
 "cells": [
  {
   "cell_type": "markdown",
   "metadata": {},
   "source": [
    "# Analyize Google Chrome history\n",
    "\n",
    "Idea and initial code taken from the [Analyzing Browser History Using Python and Pandas](https://applecrazy.github.io/blog/posts/analyzing-browser-hist-using-python/) blogpost by __AppleCrazy__."
   ]
  },
  {
   "cell_type": "code",
   "execution_count": null,
   "metadata": {},
   "outputs": [],
   "source": [
    "%matplotlib inline"
   ]
  },
  {
   "cell_type": "code",
   "execution_count": null,
   "metadata": {},
   "outputs": [],
   "source": [
    "import os\n",
    "import pandas as pd\n",
    "import numpy as np\n",
    "import sqlite3\n",
    "import shutil\n",
    "import tempfile\n",
    "import collections\n",
    "from pathlib import Path\n",
    "from IPython.display import display\n",
    "from urllib.parse import urlparse\n",
    "import matplotlib.pyplot as plt\n",
    "import seaborn as sns\n",
    "sns.set('notebook', style = 'white')"
   ]
  },
  {
   "cell_type": "code",
   "execution_count": null,
   "metadata": {},
   "outputs": [],
   "source": [
    "DB_PATH = os.path.join(Path.home(), 'Library/Application Support/Google/Chrome/Default/History')"
   ]
  },
  {
   "cell_type": "markdown",
   "metadata": {},
   "source": [
    "## Retrieve the history from the sqlite database"
   ]
  },
  {
   "cell_type": "code",
   "execution_count": null,
   "metadata": {},
   "outputs": [],
   "source": [
    "def get_chrome_history_from_sqlite(db_path, filter_out_invalid_dates = True):\n",
    "    TMP_DATABASE_PATH=tempfile.mktemp()\n",
    "    shutil.copy(db_path, TMP_DATABASE_PATH)\n",
    "    conn = sqlite3.connect(TMP_DATABASE_PATH)\n",
    "    c = conn.cursor()\n",
    "    \n",
    "    EXPORT_CMD = \"select datetime(last_visit_time/1000000-11644473600,'unixepoch'), url from  urls order by last_visit_time desc\"\n",
    "    \n",
    "    c.execute(EXPORT_CMD)\n",
    "    data = c.fetchall()\n",
    "    df = pd.DataFrame(data, columns = ['datetime', 'url'])\n",
    "    if filter_out_invalid_dates:\n",
    "        df = df[df.datetime != '1601-01-01 00:00:00']\n",
    "        \n",
    "    df['domain'] = df.url.apply(lambda x: urlparse(x).netloc)\n",
    "    df['datetime'] = pd.to_datetime(df.datetime)\n",
    "    return df"
   ]
  },
  {
   "cell_type": "code",
   "execution_count": null,
   "metadata": {},
   "outputs": [],
   "source": [
    "assert os.path.exists(DB_PATH), 'Chrome sqlite database \"{}\" does not exist!'.format(DB_PATH)\n",
    "df = get_chrome_history_from_sqlite(DB_PATH)"
   ]
  },
  {
   "cell_type": "markdown",
   "metadata": {},
   "source": [
    "## Plot the most frequent visited domains\n",
    "\n",
    "This code is taken from AppleCrazy's blogpost."
   ]
  },
  {
   "cell_type": "code",
   "execution_count": null,
   "metadata": {},
   "outputs": [],
   "source": [
    "def get_domain_visit_counts(data):\n",
    "    # Aggregate domain entries\n",
    "    site_frequencies = data.domain.value_counts().to_frame()\n",
    "    # Make the domain a column\n",
    "    site_frequencies.reset_index(level=0, inplace=True)\n",
    "    # Rename columns to appropriate names\n",
    "    site_frequencies.columns = ['domain', 'count']\n",
    "    return site_frequencies\n",
    "\n",
    "def plot_domain_visit_counts_as_piechart(site_frequencies, with_labels = True, topN = 20, figsize = (14, 14)):\n",
    "    fig, ax = plt.subplots(figsize=figsize)\n",
    "    ax.set_title('Top {} Sites Visited\\n({} visits in total)'.format(topN, site_frequencies['count'].sum()))\n",
    "    pie_data = site_frequencies['count'].head(topN).tolist()\n",
    "\n",
    "    if with_labels:\n",
    "        pie_labels = site_frequencies.apply(lambda x: '{} ({})'.format(x.domain, x['count']), axis = 1).head(topN)\n",
    "    else:\n",
    "        pie_labels = None\n",
    "    \n",
    "    ax.pie(pie_data, autopct='%1.1f%%', labels=pie_labels)\n",
    "    return fig, ax\n",
    "\n",
    "site_frequencies = get_domain_visit_counts(df)\n",
    "fig, ax = plot_domain_visit_counts_as_piechart(site_frequencies)"
   ]
  },
  {
   "cell_type": "markdown",
   "metadata": {},
   "source": [
    "## Plot the frequency of page visits per hour of the day"
   ]
  },
  {
   "cell_type": "code",
   "execution_count": null,
   "metadata": {},
   "outputs": [],
   "source": [
    "fig, ax = plt.subplots(figsize = (20, 6))\n",
    "df.datetime.dt.hour.value_counts().sort_index(ascending = True).plot(kind = 'bar', ax = ax)\n",
    "ax.set_title('Visits per hour')\n",
    "ax.set_xlabel('hour of the day');"
   ]
  },
  {
   "cell_type": "markdown",
   "metadata": {},
   "source": [
    "## Create \"clock\" plot of visits per time of day"
   ]
  },
  {
   "cell_type": "code",
   "execution_count": null,
   "metadata": {},
   "outputs": [],
   "source": [
    "def time_to_angle(t, factor = np.pi / 12):\n",
    "    return (t * factor) % (2 * np.pi)\n",
    "\n",
    "def time_to_x_y(t, stretch_x = 1, stretch_y = 1):\n",
    "    angle_in_rad = time_to_angle(t)\n",
    "    x, y = np.sin(angle_in_rad), np.cos(angle_in_rad)\n",
    "    return x, y\n",
    "\n",
    "def datetime_to_angle(x):\n",
    "    return time_to_angle(x.datetime.hour + x.datetime.minute / 60)\n",
    "\n",
    "df['angle_in_rad'] = df.apply(datetime_to_angle, axis = 1)\n",
    "df['x'] = np.sin(df.angle_in_rad)\n",
    "df['y'] = np.cos(df.angle_in_rad)"
   ]
  },
  {
   "cell_type": "code",
   "execution_count": null,
   "metadata": {},
   "outputs": [],
   "source": [
    "variance = 0.3\n",
    "def add_variance(x, variance = 0.3):\n",
    "    return x + np.random.uniform(low = -variance, high = variance, size=len(df))\n",
    "\n",
    "df['x_ran'] = add_variance(df.x)\n",
    "df['y_ran'] = add_variance(df.y)\n",
    "\n",
    "colors = plt.get_cmap('Paired').colors\n",
    "num_colors = len(colors)\n",
    "\n",
    "cmap_domain_2_idx = {domain: colors[idx % num_colors] for idx, domain in enumerate(set(df.domain.values))}\n",
    "df['domain_color'] = df.domain.apply(lambda domain: cmap_domain_2_idx[domain])\n",
    "\n",
    "fig, ax = plt.subplots(figsize = (10, 10))\n",
    "df.plot(kind = 'scatter', x = 'x_ran', y = 'y_ran', ax = ax, s = 2, alpha = 0.6, c = df.domain_color)\n",
    "ax.grid('off')\n",
    "fig.tight_layout()\n",
    "\n",
    "for pos, spine in ax.spines.items():\n",
    "    spine.set_visible(False)\n",
    "\n",
    "ax.get_xaxis().set_visible(False)\n",
    "ax.get_yaxis().set_visible(False)\n",
    "\n",
    "for hour in range(24):\n",
    "    x, y = time_to_x_y(hour)\n",
    "    ax.text(x = x, y = y, s = hour, fontdict={'horizontalalignment': 'center', 'weight': 'bold'}, color = 'red')\n",
    "\n",
    "ax.set_title('Page visits per hour')\n",
    "\n",
    "fig.tight_layout()\n",
    "fig.savefig('data/visits_per_hour.png')"
   ]
  }
 ],
 "metadata": {
  "language_info": {
   "name": "python",
   "pygments_lexer": "ipython3"
  }
 },
 "nbformat": 4,
 "nbformat_minor": 2
}
